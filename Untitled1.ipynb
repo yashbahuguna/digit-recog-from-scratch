{
 "cells": [
  {
   "cell_type": "code",
   "execution_count": 1,
   "metadata": {},
   "outputs": [],
   "source": [
    "from mnist import MNIST\n",
    "import numpy as np\n",
    "import cupy as cp\n",
    "import random\n",
    "from PIL import Image"
   ]
  },
  {
   "cell_type": "code",
   "execution_count": 2,
   "metadata": {},
   "outputs": [],
   "source": [
    "mndata = MNIST('samples')\n",
    "images, labels = mndata.load_training()"
   ]
  },
  {
   "cell_type": "code",
   "execution_count": 4,
   "metadata": {},
   "outputs": [],
   "source": [
    "images = cp.asarray(images).reshape(60000, 784)"
   ]
  },
  {
   "cell_type": "code",
   "execution_count": 5,
   "metadata": {},
   "outputs": [],
   "source": [
    "images_transpose = images.T"
   ]
  },
  {
   "cell_type": "code",
   "execution_count": 6,
   "metadata": {},
   "outputs": [
    {
     "data": {
      "text/plain": [
       "(784, 60000)"
      ]
     },
     "execution_count": 6,
     "metadata": {},
     "output_type": "execute_result"
    }
   ],
   "source": [
    "images_transpose.shape"
   ]
  },
  {
   "cell_type": "code",
   "execution_count": 7,
   "metadata": {},
   "outputs": [],
   "source": [
    "labels = cp.asarray(labels).reshape(60000, 1)"
   ]
  },
  {
   "cell_type": "code",
   "execution_count": 8,
   "metadata": {},
   "outputs": [],
   "source": [
    "#making labels from 60000x1 to 60000x9\n",
    "labels_transpose = labels.T\n",
    "labels_onehot = cp.zeros((labels_transpose.size, 10))\n",
    "labels_onehot[cp.arange(labels_transpose.size),labels_transpose] = 1"
   ]
  },
  {
   "cell_type": "code",
   "execution_count": 9,
   "metadata": {},
   "outputs": [],
   "source": [
    "labels_onehot_transpose = labels_onehot.T"
   ]
  },
  {
   "cell_type": "code",
   "execution_count": 10,
   "metadata": {},
   "outputs": [
    {
     "data": {
      "text/plain": [
       "(10, 60000)"
      ]
     },
     "execution_count": 10,
     "metadata": {},
     "output_type": "execute_result"
    }
   ],
   "source": [
    "labels_onehot_transpose.shape"
   ]
  },
  {
   "cell_type": "code",
   "execution_count": 11,
   "metadata": {},
   "outputs": [],
   "source": [
    "#initializing weights \n",
    "def initialize_weights():\n",
    "    w1 = cp.random.rand(784, 128)\n",
    "    b1 = cp.random.rand(128, 1)\n",
    "    w2 = cp.random.rand(128, 64)\n",
    "    b2 = cp.random.rand(64, 1)\n",
    "    w3 = cp.random.rand(64, 10)\n",
    "    b3 = cp.random.rand(10, 1)\n",
    "    return w1, w2, w3, b1, b2, b3"
   ]
  },
  {
   "cell_type": "code",
   "execution_count": 12,
   "metadata": {},
   "outputs": [],
   "source": [
    "def sigmoid(x):\n",
    "    return 1/(1 + cp.exp(-1*x))"
   ]
  },
  {
   "cell_type": "code",
   "execution_count": 13,
   "metadata": {},
   "outputs": [],
   "source": [
    "def relu(x):\n",
    "    x[x < 0] = 0\n",
    "    return x"
   ]
  },
  {
   "cell_type": "code",
   "execution_count": 14,
   "metadata": {},
   "outputs": [],
   "source": [
    "def softmax(x): \n",
    "    ans = cp.exp(x-cp.max(x, axis=0, keepdims=True))\n",
    "    d = cp.sum(ans, axis = 0)\n",
    "    return ans/d"
   ]
  },
  {
   "cell_type": "code",
   "execution_count": 15,
   "metadata": {},
   "outputs": [],
   "source": [
    "def cost(Y, outputs, m):\n",
    "    op = Y*cp.log(outputs)\n",
    "    loss = -cp.sum(op,axis = 0, keepdims = True)\n",
    "    cost = (1/m)*cp.sum(loss, axis = 1) \n",
    "    return cost"
   ]
  },
  {
   "cell_type": "code",
   "execution_count": 16,
   "metadata": {},
   "outputs": [],
   "source": [
    "def forward_and_back_prop(inputs, labels, w1, w2, w3, b1, b2, b3, m):\n",
    "    z1 = cp.dot(w1.T, inputs) + b1\n",
    "    z1 = normalize_z(z1)\n",
    "    a1 = relu(z1)\n",
    "    z2 = cp.dot(w2.T, a1) + b2\n",
    "    a2 = relu(z2)\n",
    "    z3 = cp.dot(w3.T, a2) + b3\n",
    "    a3 = softmax(z3)\n",
    "    \n",
    "    dz3 = a3 - labels#dz3 = dL/dz3\n",
    "    dw3 = (1/64)*cp.dot(a2, dz3.T)\n",
    "    db3 = (1/m)*(cp.sum(dz3, axis = 1, keepdims = True))\n",
    "    \n",
    "    da2 = cp.dot(w3, dz3)\n",
    "    dz2 = da2\n",
    "    dz2[dz2 < 0] = 0#to account for da2/dz2 in (da2/dz2)*(dL/da2)\n",
    "    #dz2[dz2 >=0] = 1\n",
    "    dw2 = (1/128)*cp.dot(a1, dz2.T)\n",
    "    db2 = (1/m)*(cp.sum(dz2, axis = 1, keepdims = True))\n",
    "    da1 = cp.dot(w2, dz2)\n",
    "    dz1 = da1\n",
    "    dz1[dz1 < 0] = 0\n",
    "    #dz1[dz1 >=0] = 1\n",
    "    dw1 = (1/784)*cp.dot(inputs, dz1.T)\n",
    "    db1 = (1/m)*(cp.sum(dz1, axis = 1, keepdims = True))\n",
    "    \n",
    "    return dw1, dw2, dw3, db1, db2, db3, a3"
   ]
  },
  {
   "cell_type": "code",
   "execution_count": 17,
   "metadata": {},
   "outputs": [
    {
     "data": {
      "text/plain": [
       "(1000, 10, 60)"
      ]
     },
     "execution_count": 17,
     "metadata": {},
     "output_type": "execute_result"
    }
   ],
   "source": [
    "labels_batches = cp.asarray(cp.split(labels_onehot_transpose, 1000, axis = 1))\n",
    "labels_batches.shape"
   ]
  },
  {
   "cell_type": "code",
   "execution_count": 18,
   "metadata": {},
   "outputs": [
    {
     "data": {
      "text/plain": [
       "(1000, 784, 60)"
      ]
     },
     "execution_count": 18,
     "metadata": {},
     "output_type": "execute_result"
    }
   ],
   "source": [
    "images_batches = cp.asarray(cp.split(images_transpose, 1000, axis = 1))\n",
    "images_batches.shape"
   ]
  },
  {
   "cell_type": "code",
   "execution_count": 19,
   "metadata": {},
   "outputs": [
    {
     "ename": "SyntaxError",
     "evalue": "invalid syntax (<ipython-input-19-02a5b0ae2f15>, line 1)",
     "output_type": "error",
     "traceback": [
      "\u001b[0;36m  File \u001b[0;32m\"<ipython-input-19-02a5b0ae2f15>\"\u001b[0;36m, line \u001b[0;32m1\u001b[0m\n\u001b[0;31m    images_batches[]\u001b[0m\n\u001b[0m                   ^\u001b[0m\n\u001b[0;31mSyntaxError\u001b[0m\u001b[0;31m:\u001b[0m invalid syntax\n"
     ]
    }
   ],
   "source": []
  },
  {
   "cell_type": "code",
   "execution_count": 20,
   "metadata": {},
   "outputs": [],
   "source": [
    "def normalize(x):\n",
    "    epsilon = 0.001\n",
    "    u = cp.sum(x, axis = 1, keepdims = True)\n",
    "    variance = cp.sum(cp.square(x-u), axis = 1, keepdims = True)\n",
    "    return (x-u)/(cp.sqrt(variance + epsilon))"
   ]
  },
  {
   "cell_type": "code",
   "execution_count": 21,
   "metadata": {},
   "outputs": [],
   "source": [
    "def normalize_z(x):\n",
    "    epsilon = 0.001\n",
    "    u = cp.sum(x, axis = 0, keepdims = True)\n",
    "    variance = cp.sum(cp.square(x-u), axis = 0, keepdims = True)\n",
    "    return (x-u)/(cp.sqrt(variance + epsilon))"
   ]
  },
  {
   "cell_type": "code",
   "execution_count": 22,
   "metadata": {},
   "outputs": [
    {
     "data": {
      "text/plain": [
       "(1000, 784, 60)"
      ]
     },
     "execution_count": 22,
     "metadata": {},
     "output_type": "execute_result"
    }
   ],
   "source": [
    "images_batches_normalized = normalize(images_batches)\n",
    "images_batches_normalized.shape"
   ]
  },
  {
   "cell_type": "code",
   "execution_count": 23,
   "metadata": {},
   "outputs": [
    {
     "name": "stdout",
     "output_type": "stream",
     "text": [
      "current progress:  0 cost:  [17.33933611]\n",
      "current progress:  500 cost:  [2.29555517]\n",
      "current progress:  1000 cost:  [2.29555517]\n",
      "current progress:  1500 cost:  [2.29555517]\n",
      "current progress:  2000 cost:  [2.29555517]\n",
      "current progress:  2500 cost:  [2.29555517]\n",
      "current progress:  3000 cost:  [2.29555517]\n",
      "current progress:  3500 cost:  [2.29555517]\n",
      "current progress:  4000 cost:  [2.29555517]\n",
      "current progress:  4500 cost:  [2.29555517]\n"
     ]
    }
   ],
   "source": [
    "#gradient descent\n",
    "random.seed(10)\n",
    "w1, w2, w3, b1, b2, b3 = initialize_weights()\n",
    "X = images_batches_normalized[:,:,0].T\n",
    "Y = labels_batches[:,:,0].T\n",
    "m = 1000\n",
    "alpha = 0.001\n",
    "iterations = 5000\n",
    "for i in range(iterations):\n",
    "    dw1, dw2, dw3, db1, db2, db3, a3 = forward_and_back_prop(X, Y, w1, w2, w3, b1, b2, b3, m)\n",
    "    w1 = w1 - alpha*dw1\n",
    "    w2 = w2 - alpha*dw2\n",
    "    w3 = w3 - alpha*dw3\n",
    "    b1 = b1 - db1\n",
    "    b2 = b2 - db2\n",
    "    b3 = b3 - db3\n",
    "    if i%500 == 0:\n",
    "        print(\"current progress: \", i, \"cost: \", cost(Y, a3, m))"
   ]
  },
  {
   "cell_type": "code",
   "execution_count": 33,
   "metadata": {},
   "outputs": [],
   "source": [
    "def accuracy(inputs, Y, w1, w2, w3, b1, b2, b3, m):\n",
    "    \n",
    "    z1 = cp.dot(w1.T, inputs) + b1\n",
    "    z1 = normalize_z(z1)\n",
    "    a1 = relu(z1)\n",
    "    z2 = cp.dot(w2.T, a1) + b2\n",
    "    a2 = relu(z2)\n",
    "    z3 = cp.dot(w3.T, a2) + b3\n",
    "    a3 = softmax(z3)\n",
    "    \n",
    "    res = np.zeros_like(a3)\n",
    "    res[a3.argmax(0), np.arange(len(a3[0]))] = 1\n",
    "    matched = cp.count_nonzero(cp.sum(abs(Y-res), axis=0))\n",
    "    return ((matched/m))*100"
   ]
  },
  {
   "cell_type": "code",
   "execution_count": 25,
   "metadata": {},
   "outputs": [
    {
     "name": "stdout",
     "output_type": "stream",
     "text": [
      "epoch:  0 cost:  [2.3070391]\n",
      "epoch:  1 cost:  [2.30546889]\n",
      "epoch:  2 cost:  [2.30445324]\n",
      "epoch:  3 cost:  [2.30378274]\n",
      "epoch:  4 cost:  [2.30333112]\n",
      "epoch:  5 cost:  [2.30302093]\n",
      "epoch:  6 cost:  [2.30280387]\n",
      "epoch:  7 cost:  [2.3026493]\n",
      "epoch:  8 cost:  [2.30253744]\n",
      "epoch:  9 cost:  [2.30245532]\n",
      "epoch:  10 cost:  [2.30239426]\n",
      "epoch:  11 cost:  [2.30234837]\n",
      "epoch:  12 cost:  [2.30231355]\n",
      "epoch:  13 cost:  [2.30228694]\n",
      "epoch:  14 cost:  [2.30226647]\n",
      "epoch:  15 cost:  [2.30225064]\n",
      "epoch:  16 cost:  [2.30223835]\n",
      "epoch:  17 cost:  [2.30222877]\n",
      "epoch:  18 cost:  [2.30222129]\n",
      "epoch:  19 cost:  [2.30221543]\n",
      "epoch:  20 cost:  [2.30221083]\n",
      "epoch:  21 cost:  [2.30220722]\n",
      "epoch:  22 cost:  [2.30220438]\n",
      "epoch:  23 cost:  [2.30220215]\n",
      "epoch:  24 cost:  [2.30220039]\n",
      "epoch:  25 cost:  [2.302199]\n",
      "epoch:  26 cost:  [2.30219791]\n",
      "epoch:  27 cost:  [2.30219705]\n",
      "epoch:  28 cost:  [2.30219637]\n",
      "epoch:  29 cost:  [2.30219583]\n",
      "epoch:  30 cost:  [2.3021954]\n",
      "epoch:  31 cost:  [2.30219507]\n",
      "epoch:  32 cost:  [2.3021948]\n",
      "epoch:  33 cost:  [2.30219459]\n",
      "epoch:  34 cost:  [2.30219443]\n",
      "epoch:  35 cost:  [2.3021943]\n",
      "epoch:  36 cost:  [2.30219419]\n",
      "epoch:  37 cost:  [2.30219411]\n",
      "epoch:  38 cost:  [2.30219405]\n",
      "epoch:  39 cost:  [2.302194]\n",
      "epoch:  40 cost:  [2.30219396]\n",
      "epoch:  41 cost:  [2.30219392]\n",
      "epoch:  42 cost:  [2.3021939]\n",
      "epoch:  43 cost:  [2.30219388]\n",
      "epoch:  44 cost:  [2.30219386]\n",
      "epoch:  45 cost:  [2.30219385]\n",
      "epoch:  46 cost:  [2.30219384]\n",
      "epoch:  47 cost:  [2.30219383]\n",
      "epoch:  48 cost:  [2.30219383]\n",
      "epoch:  49 cost:  [2.30219382]\n",
      "epoch:  50 cost:  [2.30219382]\n",
      "epoch:  51 cost:  [2.30219381]\n",
      "epoch:  52 cost:  [2.30219381]\n",
      "epoch:  53 cost:  [2.30219381]\n",
      "epoch:  54 cost:  [2.30219381]\n",
      "epoch:  55 cost:  [2.30219381]\n",
      "epoch:  56 cost:  [2.30219381]\n",
      "epoch:  57 cost:  [2.3021938]\n",
      "epoch:  58 cost:  [2.3021938]\n",
      "epoch:  59 cost:  [2.3021938]\n",
      "epoch:  60 cost:  [2.3021938]\n",
      "epoch:  61 cost:  [2.3021938]\n",
      "epoch:  62 cost:  [2.3021938]\n",
      "epoch:  63 cost:  [2.3021938]\n",
      "epoch:  64 cost:  [2.3021938]\n",
      "epoch:  65 cost:  [2.3021938]\n",
      "epoch:  66 cost:  [2.3021938]\n",
      "epoch:  67 cost:  [2.3021938]\n",
      "epoch:  68 cost:  [2.3021938]\n",
      "epoch:  69 cost:  [2.3021938]\n"
     ]
    }
   ],
   "source": [
    "#w1, w2, w3, b1, b2, b3 = initialize_weights()\n",
    "m = 1000\n",
    "alpha = 0.00001\n",
    "iterations = 70\n",
    "for i in range(iterations):\n",
    "    for b in range(12):\n",
    "        X = images_batches[:,:,b].T\n",
    "        Y = labels_batches[:,:,b].T\n",
    "        dw1, dw2, dw3, db1, db2, db3, a3 = forward_and_back_prop(X, Y, w1, w2, w3, b1, b2, b3, 5000)\n",
    "        w1 = w1 - alpha*dw1\n",
    "        w2 = w2 - alpha*dw2\n",
    "        w3 = w3 - alpha*dw3\n",
    "        b1 = b1 - db1\n",
    "        b2 = b2 - db2\n",
    "        b3 = b3 - db3\n",
    "    print(\"epoch: \", i, \"cost: \", cost(Y, a3, m))"
   ]
  },
  {
   "cell_type": "code",
   "execution_count": 34,
   "metadata": {},
   "outputs": [
    {
     "name": "stdout",
     "output_type": "stream",
     "text": [
      "89.0\n"
     ]
    }
   ],
   "source": [
    "X = images_batches_normalized[:,:,3].T\n",
    "Y = labels_batches[:,:,3].T\n",
    "print(accuracy(X, Y, w1, w2, w3, b1, b2, b3, m))"
   ]
  }
 ],
 "metadata": {
  "kernelspec": {
   "display_name": "Python 3",
   "language": "python",
   "name": "python3"
  },
  "language_info": {
   "codemirror_mode": {
    "name": "ipython",
    "version": 3
   },
   "file_extension": ".py",
   "mimetype": "text/x-python",
   "name": "python",
   "nbconvert_exporter": "python",
   "pygments_lexer": "ipython3",
   "version": "3.8.5"
  }
 },
 "nbformat": 4,
 "nbformat_minor": 4
}
